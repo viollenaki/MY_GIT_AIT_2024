{
 "cells": [
  {
   "cell_type": "code",
   "execution_count": null,
   "metadata": {},
   "outputs": [],
   "source": [
    "from random import randint\n",
    "matrix = []\n",
    "matrix2 = []\n",
    "for i in range(3):\n",
    "    matrix2.append([])\n",
    "\n",
    "    matrix.append([])\n",
    "    for j in range(4):\n",
    "        matrix[i].append(randint(0,10))\n",
    "        matrix2[i].append(randint(0,10))\n",
    "\n",
    "print(matrix,matrix2)"
   ]
  },
  {
   "cell_type": "code",
   "execution_count": 1,
   "metadata": {},
   "outputs": [
    {
     "name": "stdout",
     "output_type": "stream",
     "text": [
      "[[5, 1, 4, 10], [10, 5, 4, 6], [5, 10, 5, 1]] \n",
      " [[3, 5, 6, 0], [7, 5, 2, 10], [4, 6, 7, 10]]\n",
      "\n",
      " [[8, 6, 10, 10], [17, 10, 6, 16], [9, 16, 12, 11]]\n"
     ]
    }
   ],
   "source": [
    "from random import randint\n",
    "matrix = [[randint(0,10) for _ in range(4)] for _ in range(3)]\n",
    "matrix2 = [[randint(0,10) for _ in range(4)] for _ in range(3)]\n",
    "print(matrix,'\\n',matrix2)\n",
    "matrix = [[(matrix[i][j]+matrix2[i][j]) for j in range(4)] for i in range(3) ]\n",
    "\n",
    "print('\\n',matrix)\n"
   ]
  },
  {
   "cell_type": "code",
   "execution_count": null,
   "metadata": {},
   "outputs": [],
   "source": []
  }
 ],
 "metadata": {
  "kernelspec": {
   "display_name": "Python 3",
   "language": "python",
   "name": "python3"
  },
  "language_info": {
   "codemirror_mode": {
    "name": "ipython",
    "version": 3
   },
   "file_extension": ".py",
   "mimetype": "text/x-python",
   "name": "python",
   "nbconvert_exporter": "python",
   "pygments_lexer": "ipython3",
   "version": "3.9.0"
  }
 },
 "nbformat": 4,
 "nbformat_minor": 2
}
