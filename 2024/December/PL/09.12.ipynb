{
 "cells": [
  {
   "cell_type": "code",
   "execution_count": 1,
   "metadata": {},
   "outputs": [],
   "source": [
    "class Cinema:\n",
    "    def __init__(self,name, seats):\n",
    "        self.name = name\n",
    "        self.seats = {i : None for i in range(seats)}\n",
    "    \n",
    "    def book(self, name, seat):\n",
    "        if self.seats[seat]==None:\n",
    "            self.seats[seat]=name\n",
    "            return 'booked'\n",
    "        else:\n",
    "            return 'unavailable'\n",
    "    def cancel(self,seat):\n",
    "        if self.seats[seat]==None:\n",
    "            return ' seat is already free'\n",
    "        else:\n",
    "            self.seats[seat]=None\n",
    "            return 'cancelled'\n",
    "    def show(self):\n",
    "        print(self.name)\n",
    "        arr = [i for i,j in self.seats.items() if j == None]\n",
    "        print('free seats', arr)\n",
    "        booked = [(i,j) for i,j in self.seats.items() if j != None]\n",
    "        print('booked', booked)\n",
    "\n",
    "        \n"
   ]
  },
  {
   "cell_type": "code",
   "execution_count": 48,
   "metadata": {},
   "outputs": [
    {
     "name": "stdout",
     "output_type": "stream",
     "text": [
      "0 is already reserved by vasya\n"
     ]
    }
   ],
   "source": [
    "import requests\n",
    "\n",
    "response = requests.get('https://ait23.pythonanywhere.com/book?seat=0&name=JOOOOOOOOHNY')\n",
    "print(response.text)\n"
   ]
  },
  {
   "cell_type": "code",
   "execution_count": null,
   "metadata": {},
   "outputs": [],
   "source": []
  }
 ],
 "metadata": {
  "kernelspec": {
   "display_name": "Python 3",
   "language": "python",
   "name": "python3"
  },
  "language_info": {
   "codemirror_mode": {
    "name": "ipython",
    "version": 3
   },
   "file_extension": ".py",
   "mimetype": "text/x-python",
   "name": "python",
   "nbconvert_exporter": "python",
   "pygments_lexer": "ipython3",
   "version": "3.9.0"
  }
 },
 "nbformat": 4,
 "nbformat_minor": 2
}
