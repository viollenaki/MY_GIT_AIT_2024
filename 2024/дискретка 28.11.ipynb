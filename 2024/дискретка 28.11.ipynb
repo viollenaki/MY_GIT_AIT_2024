{
 "cells": [
  {
   "cell_type": "code",
   "execution_count": 9,
   "metadata": {},
   "outputs": [
    {
     "name": "stdout",
     "output_type": "stream",
     "text": [
      "11\n",
      "10\n",
      "9\n",
      "8\n",
      "7\n",
      "6\n",
      "5\n",
      "4\n",
      "3\n",
      "2\n",
      "1\n",
      "0\n"
     ]
    }
   ],
   "source": [
    "for i in range(11,-1, -1):\n",
    "    print(i)"
   ]
  },
  {
   "cell_type": "code",
   "execution_count": 255,
   "metadata": {},
   "outputs": [
    {
     "name": "stdout",
     "output_type": "stream",
     "text": [
      "0.007133333333333353\n"
     ]
    }
   ],
   "source": [
    "from random import randint\n",
    "ostalnye = 0\n",
    "shest = 0\n",
    "for i in range(5000):\n",
    "    kubik = randint(1,6)\n",
    "    if kubik ==6:\n",
    "        shest +=1\n",
    "    else:\n",
    "        ostalnye+=1\n",
    "print(abs(shest/5000 - 1/6))"
   ]
  },
  {
   "cell_type": "code",
   "execution_count": null,
   "metadata": {},
   "outputs": [],
   "source": [
    "arr = [randint(1,6) for _ in range]"
   ]
  },
  {
   "cell_type": "code",
   "execution_count": null,
   "metadata": {},
   "outputs": [
    {
     "name": "stdout",
     "output_type": "stream",
     "text": [
      "0.311253\n"
     ]
    }
   ],
   "source": [
    "from random import randint\n",
    "arr = []\n",
    "for i in range(1000000):\n",
    "    arr1 = []\n",
    "    for j in range(6):\n",
    "        a =(1,10)\n",
    "        if a <= 4:\n",
    "            arr1.append(1)\n",
    "        else:\n",
    "            arr1.append(0)\n",
    "    arr.append(arr1)\n",
    "total = 0\n",
    "for i in arr:\n",
    "    if i.count(1) ==2:\n",
    "        total += 1\n",
    "print(total/1000000)\n"
   ]
  },
  {
   "cell_type": "code",
   "execution_count": 85,
   "metadata": {},
   "outputs": [
    {
     "name": "stdout",
     "output_type": "stream",
     "text": [
      "0.5600926549593794\n"
     ]
    }
   ],
   "source": [
    "import random\n",
    "print(random.random())"
   ]
  },
  {
   "cell_type": "code",
   "execution_count": 86,
   "metadata": {},
   "outputs": [
    {
     "name": "stdout",
     "output_type": "stream",
     "text": [
      "3628800\n"
     ]
    }
   ],
   "source": [
    "from math import factorial\n",
    "print(factorial(10))"
   ]
  },
  {
   "cell_type": "code",
   "execution_count": 87,
   "metadata": {},
   "outputs": [
    {
     "name": "stdout",
     "output_type": "stream",
     "text": [
      "495.0\n"
     ]
    }
   ],
   "source": [
    "from math import factorial\n",
    "print(factorial(12)/factorial(4)/factorial(8))"
   ]
  },
  {
   "cell_type": "code",
   "execution_count": 101,
   "metadata": {},
   "outputs": [
    {
     "name": "stdout",
     "output_type": "stream",
     "text": [
      "0.40856\n"
     ]
    }
   ],
   "source": [
    "from random import random\n",
    "total = []\n",
    "for i in range(1000000):\n",
    "    c = []\n",
    "\n",
    "    for j in range(5):\n",
    "        a= randint(1,10)\n",
    "        if a <=8:\n",
    "            c.append(1)\n",
    "        else:\n",
    "            c.append(0)\n",
    "    total.append(c)\n",
    "couunt = 0\n",
    "for i in total:\n",
    "    if i.count(1) ==4:\n",
    "        couunt += 1\n",
    "print(couunt/1000000)"
   ]
  },
  {
   "cell_type": "code",
   "execution_count": 102,
   "metadata": {},
   "outputs": [
    {
     "name": "stdout",
     "output_type": "stream",
     "text": [
      "0.40960000000000013\n"
     ]
    }
   ],
   "source": [
    "from math import factorial\n",
    "print(factorial(5)/(factorial(4)*factorial(1))*(0.8**4)*(0.2**1))"
   ]
  },
  {
   "cell_type": "code",
   "execution_count": null,
   "metadata": {},
   "outputs": [
    {
     "name": "stdout",
     "output_type": "stream",
     "text": [
      "['']\n"
     ]
    }
   ],
   "source": [
    "import requests\n",
    "def all_messages():\n",
    "        sender =''\n",
    "        url = 'https://ait23.pythonanywhere.com/getChat'\n",
    "        response = requests.get(url, json= {'sender': sender})\n",
    "        r = response.json().get('response', '').split('\\n')\n",
    "        return r\n",
    "\n",
    "print(all_messages())\n"
   ]
  }
 ],
 "metadata": {
  "kernelspec": {
   "display_name": "Python 3",
   "language": "python",
   "name": "python3"
  },
  "language_info": {
   "codemirror_mode": {
    "name": "ipython",
    "version": 3
   },
   "file_extension": ".py",
   "mimetype": "text/x-python",
   "name": "python",
   "nbconvert_exporter": "python",
   "pygments_lexer": "ipython3",
   "version": "3.9.0"
  }
 },
 "nbformat": 4,
 "nbformat_minor": 2
}
