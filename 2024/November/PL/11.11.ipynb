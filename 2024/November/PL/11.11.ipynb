{
 "cells": [
  {
   "cell_type": "code",
   "execution_count": null,
   "metadata": {},
   "outputs": [],
   "source": [
    "from csv import reader\n",
    "fil = open('grades.csv', 'w')\n",
    "fid1 = reader(fil)\n",
    "fil.close()"
   ]
  },
  {
   "cell_type": "code",
   "execution_count": null,
   "metadata": {},
   "outputs": [
    {
     "name": "stdout",
     "output_type": "stream",
     "text": [
      "[]\n"
     ]
    }
   ],
   "source": [
    "from csv import reader \n",
    "with open('grades.csv', 'r') as fil:\n",
    "    fil = list(reader(fil))\n",
    "print(fil)\n"
   ]
  },
  {
   "cell_type": "code",
   "execution_count": null,
   "metadata": {},
   "outputs": [
    {
     "ename": "ValueError",
     "evalue": "I/O operation on closed file.",
     "output_type": "error",
     "traceback": [
      "\u001b[1;31m---------------------------------------------------------------------------\u001b[0m",
      "\u001b[1;31mValueError\u001b[0m                                Traceback (most recent call last)",
      "Cell \u001b[1;32mIn[11], line 1\u001b[0m\n\u001b[1;32m----> 1\u001b[0m arr1 \u001b[38;5;241m=\u001b[39m [(\u001b[38;5;28mint\u001b[39m(grade), name) \u001b[38;5;28;01mfor\u001b[39;00m name, grade \u001b[38;5;129;01min\u001b[39;00m fid]\n\u001b[0;32m      2\u001b[0m \u001b[38;5;66;03m# print(max(arr1)[1], arr1)\u001b[39;00m\n\u001b[0;32m      3\u001b[0m arr2 \u001b[38;5;241m=\u001b[39m [(\u001b[38;5;28mlen\u001b[39m(name), name) \u001b[38;5;28;01mfor\u001b[39;00m name, _ \u001b[38;5;129;01min\u001b[39;00m fid]\n",
      "\u001b[1;31mValueError\u001b[0m: I/O operation on closed file."
     ]
    }
   ],
   "source": [
    "arr1 = [(int(grade), name) for name, grade in fil]\n",
    "# print(max(arr1)[1], arr1)\n",
    "arr2 = [(len(name), name) for name, _ in fil]\n",
    "# print(max(arr2))\n",
    "vowels = 'aeiouy'\n",
    "arr4= [(sum([1 for i in name if i in vowels]), name) for name,_ in fil]\n",
    "print(max(arr4))"
   ]
  },
  {
   "cell_type": "code",
   "execution_count": null,
   "metadata": {},
   "outputs": [
    {
     "name": "stdout",
     "output_type": "stream",
     "text": [
      "('98', 'Olivia')\n"
     ]
    }
   ],
   "source": [
    "from csv import reader \n",
    "with open('grades.csv', 'r') as fil:\n",
    "    fil = list(reader(fil))\n",
    "\n",
    "class Akbar:\n",
    "    def __init__(self, fil) -> None:\n",
    "        self.header = fil[1]\n",
    "        self.fil = fil[1:]\n",
    "    def prin(self):\n",
    "        for i in self.fil:\n",
    "            print(i)\n",
    "        return \n",
    "    def get_max(self):\n",
    "\n",
    "        return max([(score,name) for name,score in self.fil])\n",
    "    \n",
    "    \n",
    "arbuz = Akbar(fil)\n",
    "\n",
    "# print(arbuz.prin())\n",
    "print(arbuz.get_max())\n",
    "print('hello world')\n",
    "\n",
    "\n",
    "\n",
    "\n",
    "\n",
    "    "
   ]
  },
  {
   "cell_type": "code",
   "execution_count": null,
   "metadata": {},
   "outputs": [
    {
     "name": "stdout",
     "output_type": "stream",
     "text": [
      "(100, 'Вадим')\n",
      "(1, 'Лия')\n"
     ]
    }
   ],
   "source": [
    "# Эта программа откроет файл с именем 'grades.csv' и прочитает его. После этого\n",
    "# она создаст экземпляр класса Akbar с данными из файла.\n",
    "# Класс Akbar имеет методы для вывода данных, получения максимального и\n",
    "# минимального значений и среднего значения в файле.\n",
    "\n",
    "from csv import reader\n",
    "with open(r'C:\\Users\\User\\Desktop\\GIT AIT Akbar\\November\\grades.csv', 'r', encoding='utf-8') as fil:\n",
    "    fil = list(reader(fil))\n",
    "\n",
    "class Akbar:\n",
    "    def __init__(self, fil) -> None:\n",
    "        # header — это первая строка файла, содержащая заголовки столбцов\n",
    "        self.header = fil[0]\n",
    "        # fil — это список всех строк в файле\n",
    "        self.fil = fil[1:]\n",
    "\n",
    "    def prin(self):\n",
    "        # этот метод выводит все строки в файле\n",
    "        for i in self.fil:\n",
    "            print(i)\n",
    "        return\n",
    "\n",
    "    def get_max(self):\n",
    "        # этот метод возвращает строку с максимальным значением балла\n",
    "        return max([(int(score), name) for name, score in self.fil])\n",
    "\n",
    "    def get_min(self):\n",
    "        # этот метод возвращает строку с минимальным значением балла\n",
    "        return min([(int(score), name) for name, score in self.fil])\n",
    "\n",
    "    def get_average(self):\n",
    "        # этот метод возвращает среднее значение балла всех строк в файле\n",
    "        # если файл пустой, он возвращает 0\n",
    "        total_score = sum(int(score) for name, score in self.fil)\n",
    "        return total_score / len(self.fil) if self.fil else 0\n",
    "    \n",
    "arbuz = Akbar(fil)\n",
    "\n",
    "\n",
    "print(arbuz.get_max())\n",
    "print(arbuz.get_min())\n",
    "\n",
    "\n"
   ]
  }
 ],
 "metadata": {
  "kernelspec": {
   "display_name": "Python 3",
   "language": "python",
   "name": "python3"
  },
  "language_info": {
   "codemirror_mode": {
    "name": "ipython",
    "version": 3
   },
   "file_extension": ".py",
   "mimetype": "text/x-python",
   "name": "python",
   "nbconvert_exporter": "python",
   "pygments_lexer": "ipython3",
   "version": "3.13.0"
  }
 },
 "nbformat": 4,
 "nbformat_minor": 2
}
