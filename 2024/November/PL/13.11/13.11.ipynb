{
 "cells": [
  {
   "cell_type": "code",
   "execution_count": null,
   "metadata": {},
   "outputs": [],
   "source": [
    "def adding(a,b):\n",
    "    a = reversed(a)\n",
    "    b = reversed(b)\n",
    "    \n",
    "\n",
    "\n",
    "\n",
    "\n",
    "print(adding('19','29'))"
   ]
  },
  {
   "cell_type": "code",
   "execution_count": 1,
   "metadata": {},
   "outputs": [
    {
     "name": "stdout",
     "output_type": "stream",
     "text": [
      "48\n"
     ]
    }
   ],
   "source": [
    "def adding(a,b):\n",
    "    return eval('+'.join((a,b)))\n",
    "    \n",
    "print(adding('19','29'))"
   ]
  },
  {
   "cell_type": "code",
   "execution_count": null,
   "metadata": {},
   "outputs": [],
   "source": [
    "def adding():\n",
    "    a = input('Enter first number: ')\n",
    "    b = input('Enter second number: ')\n",
    "    dict = {'1':1,'2':2,'3':3,'4':4,'5':5,'6':6,'7':7,'8':8,'9':9,'0':0}\n",
    "    a = list(reversed(a))\n",
    "    b = list(reversed(b))\n",
    "    for i in range(max(len(a),len(b))):\n",
    "        if len(a) > len(b):\n",
    "            b.append('0')\n",
    "        elif len(b) > len(a):\n",
    "            a.append('0')\n",
    "    total = ''\n",
    "    carry = 0\n",
    "    for i,j in zip(a,b):\n",
    "        sum_ = dict[i] + dict[j] + carry\n",
    "        carry = sum_ // 10\n",
    "        total += str(sum_ % 10)\n",
    "    \n",
    "    return total[::-1]\n",
    "\n",
    "# rint(a/dding())\n",
    "\n",
    "def f(a,b):\n",
    "    dict = {str(i):i for i in range(10)}\n",
    "    p = 10\n",
    "    return sum([dict[i]*p ** index for index, i in enumerate(a[::-1])]) + sum([dict[i]*p ** index for index, i in enumerate(b[::-1])])\n",
    "\n",
    "print(f('5576765646546545647654', '4587654435486634543939635'))"
   ]
  },
  {
   "cell_type": "code",
   "execution_count": 5,
   "metadata": {},
   "outputs": [
    {
     "name": "stdout",
     "output_type": "stream",
     "text": [
      "['Client Ivan add with phone number 1234', 'Client Petr add with phone number 678', 'Transfer 1000 from Ivan to Petr']\n"
     ]
    }
   ],
   "source": [
    "class Client:\n",
    "    def __init__(self, name, phone):\n",
    "        self.name = name\n",
    "        self.phone = phone\n",
    "        self.total = 0\n",
    "    def getBalance(self):\n",
    "        return self.total\n",
    "    def add(self, amount):\n",
    "        self.total += amount\n",
    "    def remove(self, amount):\n",
    "        self.total -= amount\n",
    "\n",
    "\n",
    "\n",
    "class Optima:\n",
    "    def __init__(self):\n",
    "        self.clients = {}\n",
    "        self.total = 0\n",
    "        self.history = []\n",
    "    def get_total(self):\n",
    "        return self.total\n",
    "    def add(self, name, phone):\n",
    "        self.clients[name] = Client(name, phone)\n",
    "        self.history.append(f'Add client {name} with phone {phone}')\n",
    "    def addTransfer(self, to_name,from_name ,amount):\n",
    "        komissiya = amount * 0.1/100\n",
    "        self.clients[to_name].add(amount)\n",
    "        self.clients[from_name].remove(amount+komissiya)\n",
    "        self.total += komissiya\n",
    "        self.history.append(f'Transfer {amount} from {from_name} to {to_name}')\n",
    "    def addBalace(self,name, amount):\n",
    "        self.clients[name].add(amount)\n",
    "        self.history.append(f'Add {amount} to {name}')\n",
    "    def get_bank_balance(self):\n",
    "        return self.total\n",
    "    def get_history(self):\n",
    "        return '\\n'.join(self.history)\n",
    "    \n",
    "    def get_most_popular(self):\n",
    "        print(self.history)\n",
    "\n",
    "\n",
    "\n",
    "\n",
    "bank = Optima()\n",
    "bank.add('Ivan', 1234)\n",
    "bank.add('Petr', 678)\n",
    "bank.addTransfer('Petr', 'Ivan', 1000)\n",
    "bank.get_most_popular()\n",
    "    "
   ]
  },
  {
   "cell_type": "code",
   "execution_count": null,
   "metadata": {},
   "outputs": [],
   "source": []
  }
 ],
 "metadata": {
  "kernelspec": {
   "display_name": "Python 3",
   "language": "python",
   "name": "python3"
  },
  "language_info": {
   "codemirror_mode": {
    "name": "ipython",
    "version": 3
   },
   "file_extension": ".py",
   "mimetype": "text/x-python",
   "name": "python",
   "nbconvert_exporter": "python",
   "pygments_lexer": "ipython3",
   "version": "3.9.0"
  }
 },
 "nbformat": 4,
 "nbformat_minor": 2
}
