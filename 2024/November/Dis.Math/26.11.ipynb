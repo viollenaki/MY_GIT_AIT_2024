{
 "cells": [
  {
   "cell_type": "code",
   "execution_count": null,
   "metadata": {},
   "outputs": [],
   "source": [
    "from random import randint\n",
    "arr = [randint (1,100) for _ in range(20)]\n",
    "a = float('-inf')\n",
    "def get_max(arr):\n",
    "    global a\n",
    "    if a < arr[0]:\n",
    "        a = arr[0]\n",
    "        if len(arr)!=1:\n",
    "            return get_max(arr[1:])\n",
    "        else:\n",
    "            return arr[0]\n",
    "    else:\n",
    "        if len(arr)!=1:\n",
    "            return get_max(arr[1:])\n",
    "        else:\n",
    "            return arr[0]\n",
    "print(arr)\n",
    "get_max(arr)\n",
    "print(a)\n",
    "print(max(arr))\n"
   ]
  },
  {
   "cell_type": "code",
   "execution_count": 1,
   "metadata": {},
   "outputs": [
    {
     "ename": "NameError",
     "evalue": "name 'randint' is not defined",
     "output_type": "error",
     "traceback": [
      "\u001b[1;31m---------------------------------------------------------------------------\u001b[0m",
      "\u001b[1;31mNameError\u001b[0m                                 Traceback (most recent call last)",
      "Cell \u001b[1;32mIn[1], line 1\u001b[0m\n\u001b[1;32m----> 1\u001b[0m arr \u001b[38;5;241m=\u001b[39m [\u001b[43mrandint\u001b[49m (\u001b[38;5;241m1\u001b[39m,\u001b[38;5;241m100\u001b[39m) \u001b[38;5;28;01mfor\u001b[39;00m _ \u001b[38;5;129;01min\u001b[39;00m \u001b[38;5;28mrange\u001b[39m(\u001b[38;5;241m20\u001b[39m)] \u001b[38;5;241m+\u001b[39m [\u001b[38;5;241m97\u001b[39m]\n\u001b[0;32m      2\u001b[0m max_num \u001b[38;5;241m=\u001b[39m \u001b[38;5;28mfloat\u001b[39m(\u001b[38;5;124m'\u001b[39m\u001b[38;5;124m-inf\u001b[39m\u001b[38;5;124m'\u001b[39m)\n\u001b[0;32m      3\u001b[0m \u001b[38;5;28;01mdef\u001b[39;00m \u001b[38;5;21mget_max\u001b[39m(num_id,max_num):    \n",
      "\u001b[1;31mNameError\u001b[0m: name 'randint' is not defined"
     ]
    }
   ],
   "source": [
    "arr = [randint (1,100) for _ in range(20)] + [97]\n",
    "max_num = float('-inf')\n",
    "def get_max(num_id,max_num):    \n",
    "    if arr[num_id]>max_num: \n",
    "        max_num = arr[num_id]\n",
    "    if num_id < len(arr)-1:\n",
    "        return get_max(num_id+1, max_num )\n",
    "    else:\n",
    "        return max_num\n",
    "print(get_max(0,max_num))\n",
    "print(arr,'\\n' ,max(arr))\n"
   ]
  },
  {
   "cell_type": "code",
   "execution_count": null,
   "metadata": {},
   "outputs": [],
   "source": [
    "from random import randint\n",
    "arr = [randint (1,100) for _ in range(20)]\n",
    "a = float('-inf')\n",
    "def get_max(arr):\n",
    "    global a\n",
    "    if len(arr) == 1:\n",
    "        return arr[0]\n",
    "    else:\n",
    "        if a < arr[0]:\n",
    "            a = arr[0]\n",
    "            return get_max(arr[1:])\n",
    "        \n",
    "        else:\n",
    "            return get_max(arr[1:])\n",
    "print(arr)\n",
    "get_max(arr)\n",
    "print(a)\n",
    "print(max(arr))\n"
   ]
  },
  {
   "cell_type": "code",
   "execution_count": null,
   "metadata": {},
   "outputs": [
    {
     "name": "stdout",
     "output_type": "stream",
     "text": [
      "False\n",
      "False\n",
      "True\n"
     ]
    }
   ],
   "source": [
    "arr1 = [1,2,5,4]\n",
    "arr2=[1,3,2,4]\n",
    "arr3 = [1,2,3,4,5]\n",
    "def get_if_sorted(arr):\n",
    "    if len(arr) == 1:\n",
    "        return True\n",
    "    else:\n",
    "        if arr[0] > arr[1]:\n",
    "            return False\n",
    "        else:\n",
    "            return get_if_sorted(arr[1:])\n",
    "print(get_if_sorted(arr1))\n",
    "print(get_if_sorted(arr2))\n",
    "print(get_if_sorted(arr3))\n"
   ]
  },
  {
   "cell_type": "code",
   "execution_count": 4,
   "metadata": {},
   "outputs": [
    {
     "name": "stdout",
     "output_type": "stream",
     "text": [
      "False\n",
      "False\n",
      "False\n"
     ]
    }
   ],
   "source": [
    "def get_if_sorted(arr):  \n",
    "    if len(arr) == 1:\n",
    "        return arr[0]\n",
    "    if arr[0]<get_if_sorted(arr[1:]):\n",
    "        return True\n",
    "    else:\n",
    "        return False\n",
    "print(get_if_sorted(arr1))\n",
    "print(get_if_sorted(arr2))\n",
    "print(get_if_sorted(arr3))"
   ]
  },
  {
   "cell_type": "code",
   "execution_count": 7,
   "metadata": {},
   "outputs": [
    {
     "name": "stdout",
     "output_type": "stream",
     "text": [
      "False\n",
      "False\n",
      "True\n"
     ]
    }
   ],
   "source": [
    "def If_sorted(a,b,arr):\n",
    "    if len(arr) == 1:\n",
    "        return True\n",
    "    else:\n",
    "        if b == len(arr):\n",
    "            return True\n",
    "        \n",
    "        if arr[a]>arr[b]:\n",
    "            return False\n",
    "        else:\n",
    "            return If_sorted(a+1,b+1,arr)\n",
    "print(If_sorted(0,1,arr1))\n",
    "print(If_sorted(0,1,arr2))\n",
    "print(If_sorted(0,1,arr3))"
   ]
  },
  {
   "cell_type": "code",
   "execution_count": 39,
   "metadata": {},
   "outputs": [
    {
     "name": "stdout",
     "output_type": "stream",
     "text": [
      "[1, 6, 5, 8, 5]\n",
      "14\n"
     ]
    }
   ],
   "source": [
    "from random import randint\n",
    "arr = [randint(1,10)   for _ in range(5)]\n",
    "def sum_even(arr):\n",
    "    if len(arr) == 0:\n",
    "        return 0\n",
    "    else:\n",
    "        if arr[0]%2 == 0:\n",
    "            return arr[0] + sum_even(arr[1:])\n",
    "        else:\n",
    "            return sum_even(arr[1:])\n",
    "print(arr)\n",
    "print(sum_even(arr))"
   ]
  },
  {
   "cell_type": "code",
   "execution_count": 36,
   "metadata": {},
   "outputs": [
    {
     "name": "stdout",
     "output_type": "stream",
     "text": [
      "44\n"
     ]
    }
   ],
   "source": [
    "arr = [randint(1,10)   for _ in range(20)]\n",
    "def get_if_even(a):\n",
    "    if a%2 == 0:\n",
    "        return True\n",
    "    else:\n",
    "        return False\n",
    "print(sum([i for i in arr if get_if_even(i)]))"
   ]
  },
  {
   "cell_type": "code",
   "execution_count": 5,
   "metadata": {},
   "outputs": [
    {
     "name": "stdout",
     "output_type": "stream",
     "text": [
      "[1, 2, 3, 4, 5]\n",
      "[6, 7, 8, 9, 10]\n",
      "[11, 12, 13, 14, 15]\n",
      "\n",
      "[1, 6, 11]\n",
      "[2, 7, 12]\n",
      "[3, 8, 13]\n",
      "[4, 9, 14]\n",
      "[5, 10, 15]\n"
     ]
    }
   ],
   "source": [
    "def trasnspose(matrix):\n",
    "    total = [ [0 for _ in range(len(matrix))] for _ in range(len(matrix[0]))]\n",
    "    for i in range(len(matrix)):\n",
    "        for j in range(len(matrix[0])):\n",
    "            total[j][i] = matrix[i][j]\n",
    "    return total\n",
    "arr = [[1,2,3,4,5],[6,7,8,9,10],[11,12,13,14,15]]\n",
    "for i in arr:\n",
    "    print(i)\n",
    "print()\n",
    "for i in trasnspose(arr):\n",
    "    print(i)"
   ]
  }
 ],
 "metadata": {
  "kernelspec": {
   "display_name": "Python 3",
   "language": "python",
   "name": "python3"
  },
  "language_info": {
   "codemirror_mode": {
    "name": "ipython",
    "version": 3
   },
   "file_extension": ".py",
   "mimetype": "text/x-python",
   "name": "python",
   "nbconvert_exporter": "python",
   "pygments_lexer": "ipython3",
   "version": "3.13.0"
  }
 },
 "nbformat": 4,
 "nbformat_minor": 2
}
