{
 "cells": [
  {
   "cell_type": "code",
   "execution_count": null,
   "metadata": {},
   "outputs": [
    {
     "name": "stdout",
     "output_type": "stream",
     "text": [
      "0.47368421052631576\n",
      "0.4707\n"
     ]
    }
   ],
   "source": [
    "from random import randint\n",
    "count = 0\n",
    "a = 10000\n",
    "for i in range(a):\n",
    "    z = randint(1,38)\n",
    "    if z <= 18:\n",
    "        count +=1\n",
    "\n",
    "print(18/38)\n",
    "print(count/a)\n"
   ]
  },
  {
   "cell_type": "code",
   "execution_count": 42,
   "metadata": {},
   "outputs": [
    {
     "name": "stdout",
     "output_type": "stream",
     "text": [
      "38\n",
      "0.47368421052631576\n",
      "0.473788\n"
     ]
    }
   ],
   "source": [
    "arr = ['red']*18+ ['black']*18 +['green']*2\n",
    "print(len(arr))\n",
    "count = 0\n",
    "a = 1000000\n",
    "for i in range(a):\n",
    "    z = arr[randint(0,37)]\n",
    "    if z == 'red':\n",
    "        count +=1\n",
    "\n",
    "print(18/38)\n",
    "print(count/a)"
   ]
  },
  {
   "cell_type": "code",
   "execution_count": 110,
   "metadata": {},
   "outputs": [
    {
     "name": "stdout",
     "output_type": "stream",
     "text": [
      "42.7\n",
      "39.56\n",
      "39.984\n"
     ]
    }
   ],
   "source": [
    "from random import randint\n",
    "def get_avereage(a):\n",
    "    count = 0\n",
    "    for i in range(a):\n",
    "        z = randint(32,48)\n",
    "        count+=z\n",
    "    return count/a\n",
    "\n",
    "print(get_avereage(10))\n",
    "print(get_avereage(50))\n",
    "print(get_avereage(500))"
   ]
  },
  {
   "cell_type": "code",
   "execution_count": 146,
   "metadata": {},
   "outputs": [
    {
     "name": "stdout",
     "output_type": "stream",
     "text": [
      "3.5\n",
      "1.0\n",
      "1.0\n"
     ]
    }
   ],
   "source": [
    "from collections import defaultdict\n",
    "dict = defaultdict(int)\n",
    "expect_val = 0\n",
    "for i in range(1,7):\n",
    "    expect_val += i*1/6\n",
    "print(expect_val)\n",
    "dict = defaultdict(int)\n",
    "for i in range(10):\n",
    "    a = randint(1,6)\n",
    "    dict[a] +=1\n",
    "\n",
    "print(sum(dict.values())/10)\n",
    "dict = defaultdict(int)\n",
    "for i in range(100):\n",
    "    a = randint(1,6)\n",
    "    dict[a]+=1\n",
    "print(sum(dict.values())/100)\n"
   ]
  }
 ],
 "metadata": {
  "kernelspec": {
   "display_name": "Python 3",
   "language": "python",
   "name": "python3"
  },
  "language_info": {
   "codemirror_mode": {
    "name": "ipython",
    "version": 3
   },
   "file_extension": ".py",
   "mimetype": "text/x-python",
   "name": "python",
   "nbconvert_exporter": "python",
   "pygments_lexer": "ipython3",
   "version": "3.13.0"
  }
 },
 "nbformat": 4,
 "nbformat_minor": 2
}
