{
 "cells": [
  {
   "cell_type": "code",
   "execution_count": 5,
   "metadata": {},
   "outputs": [
    {
     "name": "stdout",
     "output_type": "stream",
     "text": [
      "3\n",
      "5\n"
     ]
    }
   ],
   "source": [
    "arr = [1,3,5,9,10]\n",
    "\n",
    "\n",
    "def f(a,b):\n",
    "    for i in range(a+1,b):\n",
    "        if i in arr:\n",
    "            print(i)\n",
    "\n",
    "f(1,6)"
   ]
  },
  {
   "cell_type": "code",
   "execution_count": 15,
   "metadata": {},
   "outputs": [
    {
     "name": "stdout",
     "output_type": "stream",
     "text": [
      "0\n"
     ]
    }
   ],
   "source": [
    "import bisect\n",
    "from random import randint\n",
    "arr = [randint(1,100) for _ in range(15)]\n",
    "print(bisect.bisect_left(arr, 4, 0, len(arr)))"
   ]
  },
  {
   "cell_type": "code",
   "execution_count": 16,
   "metadata": {},
   "outputs": [
    {
     "name": "stdout",
     "output_type": "stream",
     "text": [
      "['31-5', '28-2', '11-3', '27-12', '6-5', '13-6', '5-11', '22-9', '7-3', '30-12']\n"
     ]
    }
   ],
   "source": [
    "arr = [f'{randint(1,31)}-{randint(1,12)}' for i in range(10)]\n",
    "print(arr)"
   ]
  },
  {
   "cell_type": "code",
   "execution_count": 23,
   "metadata": {},
   "outputs": [
    {
     "name": "stdout",
     "output_type": "stream",
     "text": [
      "['11-3', '13-6', '22-9', '27-12', '28-2', '30-12', '31-5', '5-11', '6-5', '7-3']\n"
     ]
    }
   ],
   "source": [
    "arr= arr\n",
    "print(sorted(arr))"
   ]
  },
  {
   "cell_type": "code",
   "execution_count": null,
   "metadata": {},
   "outputs": [
    {
     "ename": "",
     "evalue": "",
     "output_type": "error",
     "traceback": [
      "\u001b[1;31mНе удалось запустить ядро \"Python 3.9.0\", так как истекло время ожидания использования портов. \n",
      "\u001b[1;31mДополнительные сведения см. в [журнале] Jupyter (command:jupyter.viewOutput)"
     ]
    }
   ],
   "source": [
    "import requests\n",
    "ressponse = requests.get('https://127.0.0.1:5000/get_info?name=joniyar')\n",
    "print(ressponse.json())"
   ]
  }
 ],
 "metadata": {
  "kernelspec": {
   "display_name": "Python 3",
   "language": "python",
   "name": "python3"
  },
  "language_info": {
   "codemirror_mode": {
    "name": "ipython",
    "version": 3
   },
   "file_extension": ".py",
   "mimetype": "text/x-python",
   "name": "python",
   "nbconvert_exporter": "python",
   "pygments_lexer": "ipython3",
   "version": "3.9.0"
  }
 },
 "nbformat": 4,
 "nbformat_minor": 2
}
