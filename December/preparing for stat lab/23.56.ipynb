{
 "cells": [
  {
   "cell_type": "code",
   "execution_count": 14,
   "metadata": {},
   "outputs": [
    {
     "name": "stdout",
     "output_type": "stream",
     "text": [
      "[20, 38, 47, 11]\n",
      "29.900000000000002 153.09\n"
     ]
    }
   ],
   "source": [
    "from random import randint\n",
    "value = [randint(1,50) for i in range(4)]\n",
    "prob = [0.4,0.3,0.2,0.1]\n",
    "def expecting_value(arr, prob):\n",
    "    return sum(arr[i] * prob[i] for i in range(len(arr)))\n",
    "\n",
    "def get_dispersion(arr, prob):\n",
    "    total = 0\n",
    "    expecting = expecting_value(arr, prob)\n",
    "    for i in range(len(arr)):\n",
    "        total += (arr[i] - expecting)**2 * prob[i]\n",
    "    return total\n",
    "print(value)\n",
    "print(expecting_value(value, prob),get_dispersion(value, prob))\n"
   ]
  },
  {
   "cell_type": "code",
   "execution_count": 22,
   "metadata": {},
   "outputs": [
    {
     "name": "stdout",
     "output_type": "stream",
     "text": [
      "[95, 84, 85, 61] 86.3\n",
      "9.80866963456309 (76.49133036543691, 96.10866963456309)\n"
     ]
    }
   ],
   "source": [
    "from random import randint\n",
    "from math import sqrt\n",
    "arr = [randint(1,100) for _ in range(4)]\n",
    "prob = [0.4,0.3,0.2,0.1]\n",
    "def expecting_value(arr, prob):\n",
    "    return sum(arr[i] * prob[i] for i in range(len(arr)))\n",
    "print(arr,expecting_value(arr, prob))\n",
    "\n",
    "def dispersion(arr, prob):\n",
    "    total = 0\n",
    "    expecting = expecting_value(arr, prob)\n",
    "    for i in range(len(arr)):\n",
    "        total += (arr[i] - expecting)**2 * prob[i]\n",
    "    return sqrt(total)\n",
    "\n",
    "def get_range(arr, prob):\n",
    "    total = 0\n",
    "    expecting = expecting_value(arr, prob)\n",
    "    for i in range(len(arr)):\n",
    "        total += (arr[i] - expecting)**2 * prob[i]\n",
    "    return expecting_value(arr, prob)-sqrt(total), expecting_value(arr, prob)+sqrt(total)\n",
    "\n",
    "print(dispersion(arr, prob),get_range(arr, prob))\n"
   ]
  },
  {
   "cell_type": "code",
   "execution_count": 24,
   "metadata": {},
   "outputs": [
    {
     "name": "stdout",
     "output_type": "stream",
     "text": [
      "13.442098050527676\n"
     ]
    }
   ],
   "source": [
    "def standart_deviation(arr, prob):\n",
    "    total = 0\n",
    "    expecting = expecting_value(arr, prob)\n",
    "    count = 0\n",
    "    for i in range(len(arr)):\n",
    "        total += (arr[i] - expecting)**2 \n",
    "    return sqrt(total/len(arr))\n",
    "\n",
    "print(standart_deviation(arr, prob))"
   ]
  },
  {
   "cell_type": "code",
   "execution_count": 28,
   "metadata": {},
   "outputs": [
    {
     "name": "stdout",
     "output_type": "stream",
     "text": [
      "{'convA': {'broken': 3036, 'fixed': 56658}, 'convB': {'broken': 1217, 'fixed': 39089}}\n"
     ]
    }
   ],
   "source": [
    "from random import randint\n",
    "dict = {'convA':{'broken':0,'fixed':0},\n",
    "        'convB':{'broken':0,'fixed':0}}\n",
    "for i in range(100000):\n",
    "    a = randint(1,10)\n",
    "    if a <=6:\n",
    "        b = randint(1,100)\n",
    "        if b <=5:\n",
    "            dict['convA']['broken'] += 1\n",
    "        else:\n",
    "            dict['convA']['fixed'] += 1\n",
    "    else:\n",
    "        b = randint(1,100)\n",
    "        if b <=3:\n",
    "            dict['convB']['broken'] += 1\n",
    "        else:\n",
    "            dict['convB']['fixed'] += 1\n",
    "print(dict)\n",
    "\n"
   ]
  },
  {
   "cell_type": "code",
   "execution_count": 29,
   "metadata": {},
   "outputs": [
    {
     "name": "stdout",
     "output_type": "stream",
     "text": [
      "0.04253\n"
     ]
    }
   ],
   "source": [
    "total_broken_prob = (dict['convA']['broken'] + dict['convB']['broken'])/(100000)\n",
    "\n",
    "print(total_broken_prob)"
   ]
  }
 ],
 "metadata": {
  "kernelspec": {
   "display_name": "Python 3",
   "language": "python",
   "name": "python3"
  },
  "language_info": {
   "codemirror_mode": {
    "name": "ipython",
    "version": 3
   },
   "file_extension": ".py",
   "mimetype": "text/x-python",
   "name": "python",
   "nbconvert_exporter": "python",
   "pygments_lexer": "ipython3",
   "version": "3.13.0"
  }
 },
 "nbformat": 4,
 "nbformat_minor": 2
}
