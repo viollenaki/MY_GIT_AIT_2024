{
 "cells": [
  {
   "cell_type": "code",
   "execution_count": 25,
   "metadata": {},
   "outputs": [
    {
     "name": "stdout",
     "output_type": "stream",
     "text": [
      "1736314101\n",
      "2025-01-08 11:28:21.763545\n",
      "2025-01-08\n",
      "11:28:21.763545\n"
     ]
    }
   ],
   "source": [
    "from datetime import datetime\n",
    "from time import time\n",
    "print(int(time()))\n",
    "print(datetime.now())\n",
    "print(datetime.fromtimestamp(time()))\n",
    "print(datetime.fromtimestamp(time()).time())"
   ]
  },
  {
   "cell_type": "code",
   "execution_count": 42,
   "metadata": {},
   "outputs": [
    {
     "name": "stdout",
     "output_type": "stream",
     "text": [
      "08-01-25\n",
      "1736315022.7954786\n"
     ]
    }
   ],
   "source": [
    "print(datetime.now().strftime('%d-%m-%y'))\n",
    "print(time())"
   ]
  },
  {
   "cell_type": "code",
   "execution_count": 38,
   "metadata": {},
   "outputs": [
    {
     "name": "stdout",
     "output_type": "stream",
     "text": [
      "2025-01-08 08-01-25\n",
      "08.01.2025\n"
     ]
    }
   ],
   "source": [
    "from datetime import datetime\n",
    "\n",
    "# Текущая дата\n",
    "current_date = datetime.now().date()\n",
    "print(current_date, datetime.now().date().strftime('%d-%m-%y'))\n",
    "\n",
    "# Изменение формата с помощью strftime\n",
    "formatted_date = current_date.strftime('%d.%m.%Y')  # формат: День.Месяц.Год\n",
    "print(formatted_date)\n"
   ]
  },
  {
   "cell_type": "code",
   "execution_count": 4,
   "metadata": {},
   "outputs": [
    {
     "name": "stdout",
     "output_type": "stream",
     "text": [
      "['sdasdasd4', 'asdasd', 'sdfs', 'fd', 'dfssdf', 'sdfs', 'ddsf', 'fs', 'd']\n"
     ]
    }
   ],
   "source": [
    "with open(r'C:\\Users\\IdeaPad Pro 5i\\OneDrive\\Desktop\\MY_GIT_AIT_2024\\2025\\January\\preparing\\про.txt', encoding='utf-8') as fid:\n",
    "    data = fid.read().split()\n",
    "\n",
    "print(data)"
   ]
  },
  {
   "cell_type": "code",
   "execution_count": null,
   "metadata": {},
   "outputs": [],
   "source": []
  }
 ],
 "metadata": {
  "kernelspec": {
   "display_name": "Python 3",
   "language": "python",
   "name": "python3"
  },
  "language_info": {
   "codemirror_mode": {
    "name": "ipython",
    "version": 3
   },
   "file_extension": ".py",
   "mimetype": "text/x-python",
   "name": "python",
   "nbconvert_exporter": "python",
   "pygments_lexer": "ipython3",
   "version": "3.9.0"
  }
 },
 "nbformat": 4,
 "nbformat_minor": 2
}
