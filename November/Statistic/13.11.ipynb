{
 "cells": [
  {
   "cell_type": "code",
   "execution_count": null,
   "metadata": {},
   "outputs": [
    {
     "name": "stdout",
     "output_type": "stream",
     "text": [
      "80.8\n",
      "2.481934729198171\n"
     ]
    }
   ],
   "source": [
    "arr = [80,82,78,85,79]\n",
    "count = 0\n",
    "expect = 0\n",
    "for i in arr:\n",
    "    count +=1\n",
    "    expect += i\n",
    "\n",
    "avg= expect / count\n",
    "print(avg)\n",
    "from math import sqrt\n",
    "\n",
    "variance = 0\n",
    "for i in arr:\n",
    "    variance += (i - avg)**2\n",
    "variance = variance / count\n",
    "std = sqrt(variance)\n",
    "print(std)\n"
   ]
  },
  {
   "cell_type": "code",
   "execution_count": 11,
   "metadata": {},
   "outputs": [
    {
     "name": "stdout",
     "output_type": "stream",
     "text": [
      "26.0\n",
      "9.16515138991168\n"
     ]
    }
   ],
   "source": [
    "arr = [10,20,30,40]\n",
    "prob = [0.1,0.4,0.3,0.2]\n",
    "\n",
    "expect = 0\n",
    "for i, v in enumerate(arr):\n",
    "    expect += (arr[i])*(prob[i])\n",
    "\n",
    "print(expect)\n",
    "val = 0\n",
    "for i,v in enumerate(arr):\n",
    "    val += (v-expect)**2*prob[i]\n",
    "print(sqrt(val))\n",
    "\n"
   ]
  },
  {
   "cell_type": "code",
   "execution_count": null,
   "metadata": {},
   "outputs": [
    {
     "name": "stdout",
     "output_type": "stream",
     "text": [
      "193\n",
      "0b110011000011110111111011000000111111011100001100101101100100101001101100010111110101110\n"
     ]
    }
   ],
   "source": []
  }
 ],
 "metadata": {
  "kernelspec": {
   "display_name": "Python 3",
   "language": "python",
   "name": "python3"
  },
  "language_info": {
   "codemirror_mode": {
    "name": "ipython",
    "version": 3
   },
   "file_extension": ".py",
   "mimetype": "text/x-python",
   "name": "python",
   "nbconvert_exporter": "python",
   "pygments_lexer": "ipython3",
   "version": "3.13.0"
  }
 },
 "nbformat": 4,
 "nbformat_minor": 2
}
